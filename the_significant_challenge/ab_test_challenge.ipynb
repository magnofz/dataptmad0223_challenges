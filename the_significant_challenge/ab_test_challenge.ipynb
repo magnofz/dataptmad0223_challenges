{
 "cells": [
  {
   "cell_type": "markdown",
   "id": "5809e45c",
   "metadata": {},
   "source": [
    "# A/B Test Challenge\n",
    "\n",
    "\n",
    "\n",
    "---\n",
    "\n",
    "#### What is an A/B Test? \n",
    "\n",
    "It is a decision making support & research methodology that allow you to measure an impact of a change in a product (e.g.: a digital product). For this challenge you will analyse the data resulting of an A/B test performed on a digital product where a new set of sponsored ads are included.\n",
    "\n",
    "\n",
    "#### Measure of success\n",
    "\n",
    "Metrics are need it to measure the success of your product. They are typically split in the following categories: \n",
    "\n",
    "- __Enganged based metrics:__ number of users, number of downloads, number of active users, user retention, etc.\n",
    "\n",
    "- __Revenue and monetization metrics:__ ads and affiliate links, subscription-based, in-app purchases, etc.\n",
    "\n",
    "- __Technical metrics:__ service level indicators (uptime of the app, downtime of the app, latency).\n",
    "\n"
   ]
  },
  {
   "cell_type": "markdown",
   "id": "37beb756",
   "metadata": {},
   "source": [
    "---\n",
    "\n",
    "## Metrics understanding\n",
    "\n",
    "In this part you must analyse the metrics involved in the test. We will focus in the following metrics:\n",
    "\n",
    "- Activity level + Daily active users (DAU).\n",
    "\n",
    "- Click-through rate (CTR)"
   ]
  },
  {
   "cell_type": "markdown",
   "id": "1656e9f4",
   "metadata": {},
   "source": [
    "### Activity level\n",
    "\n",
    "In the following part you must perform every calculation you consider necessary in order to answer the following questions:\n",
    "\n",
    "- How many activity levels you can find in the dataset (Activity level of zero means no activity).\n",
    "\n",
    "- What is the amount of users for each activity level.\n",
    "\n",
    "- How many activity levels do you have per day and how many records per each activity level.\n",
    "\n",
    "At the end of this section you must provide your conclusions about the _activity level_ of the users.\n",
    "\n",
    "__Dataset:__ `activity_pretest.csv`"
   ]
  },
  {
   "cell_type": "code",
   "execution_count": 99,
   "id": "560a5c8f",
   "metadata": {},
   "outputs": [],
   "source": [
    "# your-code\n",
    "import pandas as pd\n",
    "from statsmodels.stats.weightstats import ztest\n",
    "from scipy import stats\n",
    "\n",
    "import seaborn as sns\n",
    "import matplotlib.pylab as plt"
   ]
  },
  {
   "cell_type": "code",
   "execution_count": 8,
   "id": "65522b66",
   "metadata": {},
   "outputs": [],
   "source": [
    "a_pt = pd.read_csv('./data/activity_pretest.csv')"
   ]
  },
  {
   "cell_type": "code",
   "execution_count": 63,
   "id": "064a80f1",
   "metadata": {},
   "outputs": [
    {
     "name": "stdout",
     "output_type": "stream",
     "text": [
      "Number of activity levels : 21 \n",
      "Number of users :  60000\n"
     ]
    },
    {
     "data": {
      "text/html": [
       "<div>\n",
       "<style scoped>\n",
       "    .dataframe tbody tr th:only-of-type {\n",
       "        vertical-align: middle;\n",
       "    }\n",
       "\n",
       "    .dataframe tbody tr th {\n",
       "        vertical-align: top;\n",
       "    }\n",
       "\n",
       "    .dataframe thead th {\n",
       "        text-align: right;\n",
       "    }\n",
       "</style>\n",
       "<table border=\"1\" class=\"dataframe\">\n",
       "  <thead>\n",
       "    <tr style=\"text-align: right;\">\n",
       "      <th></th>\n",
       "      <th>activity_level</th>\n",
       "      <th>users</th>\n",
       "    </tr>\n",
       "  </thead>\n",
       "  <tbody>\n",
       "    <tr>\n",
       "      <th>0</th>\n",
       "      <td>0</td>\n",
       "      <td>60000</td>\n",
       "    </tr>\n",
       "    <tr>\n",
       "      <th>1</th>\n",
       "      <td>1</td>\n",
       "      <td>33688</td>\n",
       "    </tr>\n",
       "    <tr>\n",
       "      <th>2</th>\n",
       "      <td>2</td>\n",
       "      <td>33761</td>\n",
       "    </tr>\n",
       "    <tr>\n",
       "      <th>3</th>\n",
       "      <td>3</td>\n",
       "      <td>33634</td>\n",
       "    </tr>\n",
       "    <tr>\n",
       "      <th>4</th>\n",
       "      <td>4</td>\n",
       "      <td>33502</td>\n",
       "    </tr>\n",
       "  </tbody>\n",
       "</table>\n",
       "</div>"
      ],
      "text/plain": [
       "   activity_level  users\n",
       "0               0  60000\n",
       "1               1  33688\n",
       "2               2  33761\n",
       "3               3  33634\n",
       "4               4  33502"
      ]
     },
     "execution_count": 63,
     "metadata": {},
     "output_type": "execute_result"
    }
   ],
   "source": [
    "#how many activity levels in the dataset and how many users per activity_level\n",
    "\n",
    "activity_levels = a_pt['activity_level'].unique()\n",
    "activity_levels.sort()\n",
    "users = a_pt['userid'].nunique()\n",
    "\n",
    "\n",
    "print('Number of activity levels :',len(activity_levels),\n",
    "     '\\nNumber of users : ', users)\n",
    "u_x_a = pd.DataFrame([(a, a_pt[a_pt['activity_level'] == a]['userid'].nunique()) for a in activity_levels],\n",
    "                       columns=['activity_level', 'users'])\n",
    "\n",
    "u_x_a.head(5)"
   ]
  },
  {
   "cell_type": "code",
   "execution_count": 44,
   "id": "d0391c8a",
   "metadata": {},
   "outputs": [
    {
     "data": {
      "text/html": [
       "<div>\n",
       "<style scoped>\n",
       "    .dataframe tbody tr th:only-of-type {\n",
       "        vertical-align: middle;\n",
       "    }\n",
       "\n",
       "    .dataframe tbody tr th {\n",
       "        vertical-align: top;\n",
       "    }\n",
       "\n",
       "    .dataframe thead th {\n",
       "        text-align: right;\n",
       "    }\n",
       "</style>\n",
       "<table border=\"1\" class=\"dataframe\">\n",
       "  <thead>\n",
       "    <tr style=\"text-align: right;\">\n",
       "      <th></th>\n",
       "      <th>day</th>\n",
       "      <th>activity_levels</th>\n",
       "    </tr>\n",
       "  </thead>\n",
       "  <tbody>\n",
       "    <tr>\n",
       "      <th>0</th>\n",
       "      <td>2021-10-01</td>\n",
       "      <td>21</td>\n",
       "    </tr>\n",
       "    <tr>\n",
       "      <th>1</th>\n",
       "      <td>2021-10-02</td>\n",
       "      <td>21</td>\n",
       "    </tr>\n",
       "    <tr>\n",
       "      <th>2</th>\n",
       "      <td>2021-10-03</td>\n",
       "      <td>21</td>\n",
       "    </tr>\n",
       "    <tr>\n",
       "      <th>3</th>\n",
       "      <td>2021-10-04</td>\n",
       "      <td>21</td>\n",
       "    </tr>\n",
       "    <tr>\n",
       "      <th>4</th>\n",
       "      <td>2021-10-05</td>\n",
       "      <td>21</td>\n",
       "    </tr>\n",
       "  </tbody>\n",
       "</table>\n",
       "</div>"
      ],
      "text/plain": [
       "          day  activity_levels\n",
       "0  2021-10-01               21\n",
       "1  2021-10-02               21\n",
       "2  2021-10-03               21\n",
       "3  2021-10-04               21\n",
       "4  2021-10-05               21"
      ]
     },
     "execution_count": 44,
     "metadata": {},
     "output_type": "execute_result"
    }
   ],
   "source": [
    "#how many activity levels per day\n",
    "\n",
    "days = a_pt['dt'].unique()\n",
    "days.sort()\n",
    "\n",
    "al_x_day = pd.DataFrame([(d, a_pt[a_pt['dt'] == d]['activity_level'].nunique()) for d in days],\n",
    "                       columns=['day', 'activity_levels'])\n",
    "\n",
    "al_x_day.head(5)"
   ]
  },
  {
   "cell_type": "code",
   "execution_count": 45,
   "id": "1485ff00",
   "metadata": {},
   "outputs": [
    {
     "data": {
      "text/html": [
       "<div>\n",
       "<style scoped>\n",
       "    .dataframe tbody tr th:only-of-type {\n",
       "        vertical-align: middle;\n",
       "    }\n",
       "\n",
       "    .dataframe tbody tr th {\n",
       "        vertical-align: top;\n",
       "    }\n",
       "\n",
       "    .dataframe thead th {\n",
       "        text-align: right;\n",
       "    }\n",
       "</style>\n",
       "<table border=\"1\" class=\"dataframe\">\n",
       "  <thead>\n",
       "    <tr style=\"text-align: right;\">\n",
       "      <th></th>\n",
       "      <th>activity_level</th>\n",
       "      <th>users</th>\n",
       "    </tr>\n",
       "  </thead>\n",
       "  <tbody>\n",
       "    <tr>\n",
       "      <th>0</th>\n",
       "      <td>0</td>\n",
       "      <td>909125</td>\n",
       "    </tr>\n",
       "    <tr>\n",
       "      <th>1</th>\n",
       "      <td>1</td>\n",
       "      <td>48732</td>\n",
       "    </tr>\n",
       "    <tr>\n",
       "      <th>2</th>\n",
       "      <td>2</td>\n",
       "      <td>49074</td>\n",
       "    </tr>\n",
       "    <tr>\n",
       "      <th>3</th>\n",
       "      <td>3</td>\n",
       "      <td>48659</td>\n",
       "    </tr>\n",
       "    <tr>\n",
       "      <th>4</th>\n",
       "      <td>4</td>\n",
       "      <td>48556</td>\n",
       "    </tr>\n",
       "  </tbody>\n",
       "</table>\n",
       "</div>"
      ],
      "text/plain": [
       "   activity_level   users\n",
       "0               0  909125\n",
       "1               1   48732\n",
       "2               2   49074\n",
       "3               3   48659\n",
       "4               4   48556"
      ]
     },
     "execution_count": 45,
     "metadata": {},
     "output_type": "execute_result"
    }
   ],
   "source": [
    "#how many records per activity level\n",
    "\n",
    "r_x_al = pd.DataFrame([(a, a_pt[a_pt['activity_level'] == a]['activity_level'].count()) for a in activity_levels],\n",
    "                       columns=['activity_level', 'users'])\n",
    "r_x_al.head(5)"
   ]
  },
  {
   "cell_type": "code",
   "execution_count": 68,
   "id": "d35493c1",
   "metadata": {},
   "outputs": [
    {
     "data": {
      "text/plain": [
       "activity_level\n",
       "0     29326.612903\n",
       "1      1572.000000\n",
       "2      1583.032258\n",
       "3      1569.645161\n",
       "4      1566.322581\n",
       "5      1587.967742\n",
       "6      1577.451613\n",
       "7      1559.322581\n",
       "8      1561.161290\n",
       "9      1574.838710\n",
       "10     1578.806452\n",
       "11     1575.225806\n",
       "12     1577.774194\n",
       "13     1565.612903\n",
       "14     1568.387097\n",
       "15     1567.709677\n",
       "16     1578.516129\n",
       "17     1561.129032\n",
       "18     1580.064516\n",
       "19     1577.451613\n",
       "20      790.967742\n",
       "dtype: float64"
      ]
     },
     "execution_count": 68,
     "metadata": {},
     "output_type": "execute_result"
    }
   ],
   "source": [
    "#how many records per activity level per day (mean)\n",
    "\n",
    "a_pt.head()\n",
    "\n",
    "a_pt.groupby(['dt', 'activity_level']).size().groupby(level=1).mean()"
   ]
  },
  {
   "cell_type": "markdown",
   "id": "2a033f4f",
   "metadata": {},
   "source": [
    "### Daily active users (DAU)\n",
    "\n",
    "![ab_test](./img/user_activity_ab_testing.JPG)\n",
    "\n",
    "\n",
    "The daily active users (DAU) refers to the amount of users that are active per day (activity level of zero means no activity). You must perform the calculation of this metric and provide your insights about it.\n",
    "\n",
    "__Dataset:__ `activity_pretest.csv`"
   ]
  },
  {
   "cell_type": "code",
   "execution_count": 62,
   "id": "38006d00",
   "metadata": {},
   "outputs": [
    {
     "data": {
      "text/html": [
       "<div>\n",
       "<style scoped>\n",
       "    .dataframe tbody tr th:only-of-type {\n",
       "        vertical-align: middle;\n",
       "    }\n",
       "\n",
       "    .dataframe tbody tr th {\n",
       "        vertical-align: top;\n",
       "    }\n",
       "\n",
       "    .dataframe thead th {\n",
       "        text-align: right;\n",
       "    }\n",
       "</style>\n",
       "<table border=\"1\" class=\"dataframe\">\n",
       "  <thead>\n",
       "    <tr style=\"text-align: right;\">\n",
       "      <th></th>\n",
       "      <th>userid</th>\n",
       "      <th>dt</th>\n",
       "      <th>activity_level</th>\n",
       "    </tr>\n",
       "  </thead>\n",
       "  <tbody>\n",
       "    <tr>\n",
       "      <th>0</th>\n",
       "      <td>428070b0-083e-4c0e-8444-47bf91e99fff</td>\n",
       "      <td>2021-10-01</td>\n",
       "      <td>1</td>\n",
       "    </tr>\n",
       "    <tr>\n",
       "      <th>1</th>\n",
       "      <td>93370f9c-56ef-437f-99ff-cb7c092d08a7</td>\n",
       "      <td>2021-10-01</td>\n",
       "      <td>1</td>\n",
       "    </tr>\n",
       "    <tr>\n",
       "      <th>2</th>\n",
       "      <td>0fb7120a-53cf-4a51-8b52-bf07b8659bd6</td>\n",
       "      <td>2021-10-01</td>\n",
       "      <td>1</td>\n",
       "    </tr>\n",
       "    <tr>\n",
       "      <th>3</th>\n",
       "      <td>ce64a9d8-07d9-4dca-908d-5e1e4568003d</td>\n",
       "      <td>2021-10-01</td>\n",
       "      <td>1</td>\n",
       "    </tr>\n",
       "    <tr>\n",
       "      <th>4</th>\n",
       "      <td>e08332f0-3a5c-4ed2-b957-87e464e89b97</td>\n",
       "      <td>2021-10-01</td>\n",
       "      <td>1</td>\n",
       "    </tr>\n",
       "  </tbody>\n",
       "</table>\n",
       "</div>"
      ],
      "text/plain": [
       "                                 userid          dt  activity_level\n",
       "0  428070b0-083e-4c0e-8444-47bf91e99fff  2021-10-01               1\n",
       "1  93370f9c-56ef-437f-99ff-cb7c092d08a7  2021-10-01               1\n",
       "2  0fb7120a-53cf-4a51-8b52-bf07b8659bd6  2021-10-01               1\n",
       "3  ce64a9d8-07d9-4dca-908d-5e1e4568003d  2021-10-01               1\n",
       "4  e08332f0-3a5c-4ed2-b957-87e464e89b97  2021-10-01               1"
      ]
     },
     "execution_count": 62,
     "metadata": {},
     "output_type": "execute_result"
    }
   ],
   "source": [
    "# your-code\n",
    "active_df = a_pt[a_pt['activity_level'] > 0].reset_index(drop=True)\n",
    "active_df.head(5)"
   ]
  },
  {
   "cell_type": "code",
   "execution_count": 116,
   "id": "5b05bdbe",
   "metadata": {},
   "outputs": [
    {
     "name": "stdout",
     "output_type": "stream",
     "text": [
      "Average DAU: 30673.387096774193\n"
     ]
    },
    {
     "data": {
      "text/html": [
       "<div>\n",
       "<style scoped>\n",
       "    .dataframe tbody tr th:only-of-type {\n",
       "        vertical-align: middle;\n",
       "    }\n",
       "\n",
       "    .dataframe tbody tr th {\n",
       "        vertical-align: top;\n",
       "    }\n",
       "\n",
       "    .dataframe thead th {\n",
       "        text-align: right;\n",
       "    }\n",
       "</style>\n",
       "<table border=\"1\" class=\"dataframe\">\n",
       "  <thead>\n",
       "    <tr style=\"text-align: right;\">\n",
       "      <th></th>\n",
       "      <th>dt</th>\n",
       "      <th>DAU</th>\n",
       "    </tr>\n",
       "  </thead>\n",
       "  <tbody>\n",
       "    <tr>\n",
       "      <th>0</th>\n",
       "      <td>2021-10-01</td>\n",
       "      <td>30634</td>\n",
       "    </tr>\n",
       "    <tr>\n",
       "      <th>1</th>\n",
       "      <td>2021-10-02</td>\n",
       "      <td>30775</td>\n",
       "    </tr>\n",
       "    <tr>\n",
       "      <th>2</th>\n",
       "      <td>2021-10-03</td>\n",
       "      <td>30785</td>\n",
       "    </tr>\n",
       "    <tr>\n",
       "      <th>3</th>\n",
       "      <td>2021-10-04</td>\n",
       "      <td>30599</td>\n",
       "    </tr>\n",
       "    <tr>\n",
       "      <th>4</th>\n",
       "      <td>2021-10-05</td>\n",
       "      <td>30588</td>\n",
       "    </tr>\n",
       "  </tbody>\n",
       "</table>\n",
       "</div>"
      ],
      "text/plain": [
       "           dt    DAU\n",
       "0  2021-10-01  30634\n",
       "1  2021-10-02  30775\n",
       "2  2021-10-03  30785\n",
       "3  2021-10-04  30599\n",
       "4  2021-10-05  30588"
      ]
     },
     "execution_count": 116,
     "metadata": {},
     "output_type": "execute_result"
    }
   ],
   "source": [
    "#how many unique users per day (mean)\n",
    "dau = active_df.groupby(['dt']).size().reset_index(name=\"DAU\")\n",
    "dau_1 = dau['DAU'].mean()\n",
    "\n",
    "print('Average DAU:',dau_1)\n",
    "dau.head(5)"
   ]
  },
  {
   "cell_type": "markdown",
   "id": "9f2b985c",
   "metadata": {},
   "source": [
    "### Click-through rate (CTR)\n",
    "\n",
    "![ab_test](./img/ad_click_through_rate_ab_testing.JPG)\n",
    "\n",
    "Click-through rate (CTR) refers to the percentage of clicks that the user perform from the total amount ads showed to that user during a certain day. You must perform the analysis of this metric (e.g.: average CTR per day) and provide your insights about it.\n",
    "\n",
    "__Dataset:__ `ctr_pretest.csv`"
   ]
  },
  {
   "cell_type": "code",
   "execution_count": 90,
   "id": "7959450f",
   "metadata": {},
   "outputs": [
    {
     "data": {
      "text/html": [
       "<div>\n",
       "<style scoped>\n",
       "    .dataframe tbody tr th:only-of-type {\n",
       "        vertical-align: middle;\n",
       "    }\n",
       "\n",
       "    .dataframe tbody tr th {\n",
       "        vertical-align: top;\n",
       "    }\n",
       "\n",
       "    .dataframe thead th {\n",
       "        text-align: right;\n",
       "    }\n",
       "</style>\n",
       "<table border=\"1\" class=\"dataframe\">\n",
       "  <thead>\n",
       "    <tr style=\"text-align: right;\">\n",
       "      <th></th>\n",
       "      <th>userid</th>\n",
       "      <th>dt</th>\n",
       "      <th>ctr</th>\n",
       "    </tr>\n",
       "  </thead>\n",
       "  <tbody>\n",
       "    <tr>\n",
       "      <th>0</th>\n",
       "      <td>4b328144-df4b-47b1-a804-09834942dce0</td>\n",
       "      <td>2021-10-01</td>\n",
       "      <td>34.28</td>\n",
       "    </tr>\n",
       "    <tr>\n",
       "      <th>1</th>\n",
       "      <td>34ace777-5e9d-40b3-a859-4145d0c35c8d</td>\n",
       "      <td>2021-10-01</td>\n",
       "      <td>34.67</td>\n",
       "    </tr>\n",
       "    <tr>\n",
       "      <th>2</th>\n",
       "      <td>8028cccf-19c3-4c0e-b5b2-e707e15d2d83</td>\n",
       "      <td>2021-10-01</td>\n",
       "      <td>34.77</td>\n",
       "    </tr>\n",
       "    <tr>\n",
       "      <th>3</th>\n",
       "      <td>652b3c9c-5e29-4bf0-9373-924687b1567e</td>\n",
       "      <td>2021-10-01</td>\n",
       "      <td>35.42</td>\n",
       "    </tr>\n",
       "    <tr>\n",
       "      <th>4</th>\n",
       "      <td>45b57434-4666-4b57-9798-35489dc1092a</td>\n",
       "      <td>2021-10-01</td>\n",
       "      <td>35.04</td>\n",
       "    </tr>\n",
       "  </tbody>\n",
       "</table>\n",
       "</div>"
      ],
      "text/plain": [
       "                                 userid          dt    ctr\n",
       "0  4b328144-df4b-47b1-a804-09834942dce0  2021-10-01  34.28\n",
       "1  34ace777-5e9d-40b3-a859-4145d0c35c8d  2021-10-01  34.67\n",
       "2  8028cccf-19c3-4c0e-b5b2-e707e15d2d83  2021-10-01  34.77\n",
       "3  652b3c9c-5e29-4bf0-9373-924687b1567e  2021-10-01  35.42\n",
       "4  45b57434-4666-4b57-9798-35489dc1092a  2021-10-01  35.04"
      ]
     },
     "execution_count": 90,
     "metadata": {},
     "output_type": "execute_result"
    }
   ],
   "source": [
    "# your-code\n",
    "ctr_pt = pd.read_csv('./data/ctr_pretest.csv')\n",
    "ctr_pt.head(5)"
   ]
  },
  {
   "cell_type": "code",
   "execution_count": 117,
   "id": "b3c471b0",
   "metadata": {},
   "outputs": [
    {
     "name": "stdout",
     "output_type": "stream",
     "text": [
      "Average CTR: 33.00024304382363\n"
     ]
    },
    {
     "data": {
      "text/html": [
       "<div>\n",
       "<style scoped>\n",
       "    .dataframe tbody tr th:only-of-type {\n",
       "        vertical-align: middle;\n",
       "    }\n",
       "\n",
       "    .dataframe tbody tr th {\n",
       "        vertical-align: top;\n",
       "    }\n",
       "\n",
       "    .dataframe thead th {\n",
       "        text-align: right;\n",
       "    }\n",
       "</style>\n",
       "<table border=\"1\" class=\"dataframe\">\n",
       "  <thead>\n",
       "    <tr style=\"text-align: right;\">\n",
       "      <th></th>\n",
       "      <th>dt</th>\n",
       "      <th>ctr</th>\n",
       "    </tr>\n",
       "  </thead>\n",
       "  <tbody>\n",
       "    <tr>\n",
       "      <th>0</th>\n",
       "      <td>2021-10-01</td>\n",
       "      <td>32.993446</td>\n",
       "    </tr>\n",
       "    <tr>\n",
       "      <th>1</th>\n",
       "      <td>2021-10-02</td>\n",
       "      <td>32.991664</td>\n",
       "    </tr>\n",
       "    <tr>\n",
       "      <th>2</th>\n",
       "      <td>2021-10-03</td>\n",
       "      <td>32.995086</td>\n",
       "    </tr>\n",
       "    <tr>\n",
       "      <th>3</th>\n",
       "      <td>2021-10-04</td>\n",
       "      <td>32.992995</td>\n",
       "    </tr>\n",
       "    <tr>\n",
       "      <th>4</th>\n",
       "      <td>2021-10-05</td>\n",
       "      <td>33.004375</td>\n",
       "    </tr>\n",
       "  </tbody>\n",
       "</table>\n",
       "</div>"
      ],
      "text/plain": [
       "           dt        ctr\n",
       "0  2021-10-01  32.993446\n",
       "1  2021-10-02  32.991664\n",
       "2  2021-10-03  32.995086\n",
       "3  2021-10-04  32.992995\n",
       "4  2021-10-05  33.004375"
      ]
     },
     "execution_count": 117,
     "metadata": {},
     "output_type": "execute_result"
    }
   ],
   "source": [
    "#CTR per day and total\n",
    "\n",
    "ctr_x_day = ctr_pt.groupby('dt')['ctr'].mean().reset_index(name='ctr')\n",
    "ctr_1 = ctr_x_day['ctr'].mean()\n",
    "\n",
    "print('Average CTR:', ctr_1)\n",
    "ctr_x_day.head(5)"
   ]
  },
  {
   "cell_type": "markdown",
   "id": "2303aae2",
   "metadata": {},
   "source": [
    "---\n",
    "\n",
    "## Pretest metrics \n",
    "\n",
    "In this section you will perform the analysis of the metrics using the dataset that includes the result for the test and control groups, but only for the pretest data (i.e.: prior to November 1st, 2021). You must provide insights about the metrics (__Activity level__, __DAU__ and __CTR__) and also perform an hyphotesis test in order to determine whether there is any statistical significant difference between the groups prior to the start of the experiment. You must try different approaches (i.e.: __z-test__ and __t-test__) and compare the results.\n",
    "\n",
    "\n",
    "__Datasets:__ `activity_all.csv`, `ctr_all.csv`"
   ]
  },
  {
   "cell_type": "code",
   "execution_count": 103,
   "id": "66d2637f",
   "metadata": {},
   "outputs": [],
   "source": [
    "# your-code\n",
    "act_all = pd.read_csv('./data/activity_all.csv')\n",
    "ctr_all = pd.read_csv('./data/ctr_all.csv')"
   ]
  },
  {
   "cell_type": "code",
   "execution_count": 122,
   "id": "9794d0fa",
   "metadata": {},
   "outputs": [],
   "source": [
    "act_pre = act_all[act_all['dt'] < '2021-11-01']\n",
    "ctr_pre = ctr_all[ctr_all['dt'] < '2021-11-01']\n",
    "\n",
    "act_pre_active = act_pre[act_pre['activity_level'] > 0]"
   ]
  },
  {
   "cell_type": "code",
   "execution_count": 120,
   "id": "7a01b65e",
   "metadata": {},
   "outputs": [
    {
     "name": "stdout",
     "output_type": "stream",
     "text": [
      "Total users: 60000 \n",
      "Group 0 users: 29951 \n",
      "Group 1 users: 30049\n"
     ]
    }
   ],
   "source": [
    "print('Total users:', act_pre['userid'].nunique(),\n",
    "      '\\nGroup 0 users:', act_pre[act_pre['groupid'] == 0]['userid'].nunique(),\n",
    "      '\\nGroup 1 users:', act_pre[act_pre['groupid'] == 1]['userid'].nunique())"
   ]
  },
  {
   "cell_type": "code",
   "execution_count": 129,
   "id": "0f929ba8",
   "metadata": {},
   "outputs": [
    {
     "name": "stdout",
     "output_type": "stream",
     "text": [
      "Average DAU group 0: 15320.870967741936 \n",
      "Average DAU group 1: 15352.516129032258\n"
     ]
    }
   ],
   "source": [
    "#daily active users per group\n",
    "\n",
    "dau_g0_df = act_pre_active[act_pre_active['groupid'] == 0].groupby(['dt']).size().reset_index(name=\"DAU\")\n",
    "dau_g0 = dau_g0_df['DAU'].mean()\n",
    "\n",
    "dau_g1_df = act_pre_active[act_pre_active['groupid'] == 1].groupby(['dt']).size().reset_index(name=\"DAU\")\n",
    "dau_g1 = dau_g1_df['DAU'].mean()\n",
    "\n",
    "print('Average DAU group 0:', dau_g0,\n",
    "      '\\nAverage DAU group 1:', dau_g1)"
   ]
  },
  {
   "cell_type": "code",
   "execution_count": 132,
   "id": "efc63c4f",
   "metadata": {},
   "outputs": [
    {
     "name": "stdout",
     "output_type": "stream",
     "text": [
      "Z_score: -1.4121065242323187 \n",
      "p-value: 0.15791859802311015\n"
     ]
    }
   ],
   "source": [
    "# Ztest between group 0 and 1 DAU\n",
    "Z_score, p_value = ztest(dau_g0_df['DAU'], dau_g1_df['DAU'])\n",
    "\n",
    "print(f'Z_score: {Z_score}', f'\\np-value: {p_value}')"
   ]
  },
  {
   "cell_type": "code",
   "execution_count": 139,
   "id": "e9b2a848",
   "metadata": {},
   "outputs": [
    {
     "name": "stdout",
     "output_type": "stream",
     "text": [
      "Average CTR group 0: 33.00093853567254 \n",
      "Average CTR group 1: 32.999576637260105\n"
     ]
    }
   ],
   "source": [
    "ctr_g0_df = ctr_pre[ctr_pre['groupid'] == 0].groupby('dt')['ctr'].mean().reset_index(name='ctr')\n",
    "ctr_g0 = ctr_g0_df['ctr'].mean()\n",
    "\n",
    "ctr_g1_df = ctr_pre[ctr_pre['groupid'] == 1].groupby('dt')['ctr'].mean().reset_index(name='ctr')\n",
    "ctr_g1 = ctr_g1_df['ctr'].mean()\n",
    "\n",
    "print('Average CTR group 0:', ctr_g0,\n",
    "      '\\nAverage CTR group 1:', ctr_g1)"
   ]
  },
  {
   "cell_type": "code",
   "execution_count": 141,
   "id": "6e2935a8",
   "metadata": {},
   "outputs": [
    {
     "name": "stdout",
     "output_type": "stream",
     "text": [
      "Z_score: 0.3813635623232328 \n",
      "p-value: 0.7029334947610391\n"
     ]
    }
   ],
   "source": [
    "# Ztest between group 0 and 1 CTR\n",
    "Z_score, p_value = ztest(ctr_g0_df['ctr'], ctr_g1_df['ctr'])\n",
    "\n",
    "print(f'Z_score: {Z_score}', f'\\np-value: {p_value}')"
   ]
  },
  {
   "cell_type": "markdown",
   "id": "f8a51d75",
   "metadata": {},
   "source": [
    "---\n",
    "\n",
    "## Experiment metrics \n",
    "\n",
    "In this section you must perform the same analysis as in the previous section, but using the data generated during the experiment (i.e.: after November 1st, 2021). You must provide insights about the metrics (__Activity level__, __DAU__ and __CTR__) and also perform an hyphotesis test in order to determine whether there is any statistical significant difference between the groups during the experiment. You must try different approaches (i.e.: __z-test__ and __t-test__) and compare the results.\n",
    "\n",
    "\n",
    "__Datasets:__ `activity_all.csv`, `ctr_all.csv`"
   ]
  },
  {
   "cell_type": "code",
   "execution_count": 142,
   "id": "99892d68",
   "metadata": {},
   "outputs": [],
   "source": [
    "# your-code\n",
    "act_post = act_all[act_all['dt'] > '2021-10-31']\n",
    "ctr_post = ctr_all[ctr_all['dt'] > '2021-10-31']\n",
    "\n",
    "act_post_active = act_post[act_post['activity_level'] > 0]"
   ]
  },
  {
   "cell_type": "code",
   "execution_count": 145,
   "id": "71cba8b2",
   "metadata": {},
   "outputs": [
    {
     "name": "stdout",
     "output_type": "stream",
     "text": [
      "Total users: 60000 \n",
      "Group 0 users: 29951 \n",
      "Group 1 users: 30049\n"
     ]
    }
   ],
   "source": [
    "print('Total users:', act_post['userid'].nunique(),\n",
    "      '\\nGroup 0 users:', act_post[act_post['groupid'] == 0]['userid'].nunique(),\n",
    "      '\\nGroup 1 users:', act_post[act_post['groupid'] == 1]['userid'].nunique())"
   ]
  },
  {
   "cell_type": "code",
   "execution_count": 146,
   "id": "9d726cfe",
   "metadata": {},
   "outputs": [
    {
     "name": "stdout",
     "output_type": "stream",
     "text": [
      "Average DAU group 0: 15782.0 \n",
      "Average DAU group 1: 29302.433333333334\n"
     ]
    }
   ],
   "source": [
    "#daily active users per group\n",
    "\n",
    "dau_g0_df_post = act_post_active[act_post_active['groupid'] == 0].groupby(['dt']).size().reset_index(name=\"DAU\")\n",
    "dau_g0_post = dau_g0_df_post['DAU'].mean()\n",
    "\n",
    "dau_g1_df_post = act_post_active[act_post_active['groupid'] == 1].groupby(['dt']).size().reset_index(name=\"DAU\")\n",
    "dau_g1_post = dau_g1_df_post['DAU'].mean()\n",
    "\n",
    "print('Average DAU group 0:', dau_g0_post,\n",
    "      '\\nAverage DAU group 1:', dau_g1_post)"
   ]
  },
  {
   "cell_type": "code",
   "execution_count": 147,
   "id": "5a6793ee",
   "metadata": {},
   "outputs": [
    {
     "name": "stdout",
     "output_type": "stream",
     "text": [
      "Z_score: -198.89904948926164 \n",
      "p-value: 0.0\n"
     ]
    }
   ],
   "source": [
    "# Ztest between group 0 and 1 DAU\n",
    "Z_score, p_value = ztest(dau_g0_df_post['DAU'], dau_g1_df_post['DAU'])\n",
    "\n",
    "print(f'Z_score: {Z_score}', f'\\np-value: {p_value}')"
   ]
  },
  {
   "cell_type": "code",
   "execution_count": 148,
   "id": "2521c1bd",
   "metadata": {},
   "outputs": [
    {
     "name": "stdout",
     "output_type": "stream",
     "text": [
      "Average CTR group 0: 32.996949636224016 \n",
      "Average CTR group 1: 37.996960401253006\n"
     ]
    }
   ],
   "source": [
    "ctr_g0_df_post = ctr_post[ctr_post['groupid'] == 0].groupby('dt')['ctr'].mean().reset_index(name='ctr')\n",
    "ctr_g0_post = ctr_g0_df_post['ctr'].mean()\n",
    "\n",
    "ctr_g1_df_post = ctr_post[ctr_post['groupid'] == 1].groupby('dt')['ctr'].mean().reset_index(name='ctr')\n",
    "ctr_g1_post = ctr_g1_df_post['ctr'].mean()\n",
    "\n",
    "print('Average CTR group 0:', ctr_g0_post,\n",
    "      '\\nAverage CTR group 1:', ctr_g1_post)"
   ]
  },
  {
   "cell_type": "code",
   "execution_count": 149,
   "id": "9c9b2214",
   "metadata": {},
   "outputs": [
    {
     "name": "stdout",
     "output_type": "stream",
     "text": [
      "Z_score: -1833.515051435323 \n",
      "p-value: 0.0\n"
     ]
    }
   ],
   "source": [
    "# Ztest between group 0 and 1 CTR\n",
    "Z_score, p_value = ztest(ctr_g0_df_post['ctr'], ctr_g1_df_post['ctr'])\n",
    "\n",
    "print(f'Z_score: {Z_score}', f'\\np-value: {p_value}')"
   ]
  },
  {
   "cell_type": "markdown",
   "id": "1ea6cd70",
   "metadata": {},
   "source": [
    "---\n",
    "\n",
    "## Conclusions\n",
    "\n",
    "Please provide your conclusions after the analyses and your recommendation whether we may or may not implement the changes in the digital product."
   ]
  },
  {
   "cell_type": "code",
   "execution_count": 170,
   "id": "e04b3a04",
   "metadata": {},
   "outputs": [
    {
     "name": "stdout",
     "output_type": "stream",
     "text": [
      "-The results present an increase of 90.86% in the average DAU \n",
      " and an increase of 15.14% in the average CTR. \n",
      "-As the experience presents statistical relevance with an advantage in the general KPIs, implementing \n",
      "the changes to the general public is recommended.\n"
     ]
    }
   ],
   "source": [
    "# your-conclusions\n",
    "\n",
    "print(f'-The results present an increase of {round((dau_g1_post/dau_g1 - 1)*100, 2)}% in the average DAU',\n",
    "      f'\\n and an increase of {round((ctr_g1_post/ctr_g1 - 1)*100, 2)}% in the average CTR.',\n",
    "      f'\\n-As the experience presents statistical relevance with an advantage in the general KPIs, implementing',\n",
    "      f'\\nthe changes to the general public is recommended.')"
   ]
  },
  {
   "cell_type": "markdown",
   "id": "4c014b7f",
   "metadata": {},
   "source": [
    "---"
   ]
  }
 ],
 "metadata": {
  "kernelspec": {
   "display_name": "Python [conda env:m1_env]",
   "language": "python",
   "name": "conda-env-m1_env-py"
  },
  "language_info": {
   "codemirror_mode": {
    "name": "ipython",
    "version": 3
   },
   "file_extension": ".py",
   "mimetype": "text/x-python",
   "name": "python",
   "nbconvert_exporter": "python",
   "pygments_lexer": "ipython3",
   "version": "3.10.9"
  }
 },
 "nbformat": 4,
 "nbformat_minor": 5
}
